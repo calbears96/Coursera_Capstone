{
 "cells": [
  {
   "cell_type": "markdown",
   "metadata": {},
   "source": [
    "# Introduction"
   ]
  },
  {
   "cell_type": "markdown",
   "metadata": {},
   "source": [
    "## Background\n",
    "\n",
    "Our client is a world-renown chef and restauranter and he's looking to expand\n",
    "to new cities and continents. He has hired us to examine potential locations for\n",
    "his new venue in London, United Kingdon. Chef Gordon Gonzalez owns several \n",
    "successful Mexican restaurants in several United States cities. He believes Londoners\n",
    "are craving authentic tacos and has decided that his potential London eatery\n",
    "will be taco themed. He needs our help in analyzing the market and the best place\n",
    "to put the restaurant in London."
   ]
  },
  {
   "cell_type": "markdown",
   "metadata": {},
   "source": [
    "## Business problem\n",
    "\n",
    "Clearly, London has many restaurants. Therefore, we will need to find locations that are not already crowded. That said, we need to also find areas where there are very few or no Mexican restaurants in the vicinity of a potential location. Location is quite immportant to Chef Gonzalez (as it is for any restaurant). He would like to have a restaurant with high foot traffic every day of the week. He states that he wants to make sure that he is near the city center, if possible. \n",
    "\n",
    "Using our expertise in data science and analysis, we will provide some potentially promising locations. We will describe the advantages and disadvantages of each location so that our client can make an imformed decision.\n",
    "\n"
   ]
  },
  {
   "cell_type": "markdown",
   "metadata": {},
   "source": [
    "# Data\n",
    "\n",
    "Based on the business problem presented above, here are the factors that influence the potential location:\n",
    "\n",
    "1. The number of exisiting restaurants in a neighborhood/area (i.e., the density)\n",
    "2. The number of and distance to Mexican restaurants in the neighborhood/area (our direct competition)\n",
    "3. The distance of the neighborhood/area from the city center\n",
    "\n",
    "Rather than use pre-defined neighborhoods/boroughs in London, we use regularly spaced locations that are centered around the city center to define those areas. We chose Trafalgar Square as our city center for this analysis.\n",
    "\n",
    "We will rely on the following data sources to help us make the recommendation:\n",
    "\n",
    "- The potential areas will be generated using an algorithm and the approximate addresses of those generated areas will be obtained via the TomTom API for reverse geocoding\n",
    "- The number of restaurants and their types (e.g., Italian, Mexican) and their location in each candidate area will be obtained via the Foursquare API\n",
    "- The city center coordinates of London will be obtained via the TomTom API for geocoding for Trafalgar Square\n",
    "\n",
    "## Foursquare data\n",
    "\n",
    "Foursquare categorizes venues (e.g., Arts & Entertainment, Food). For our problem, we're interested in the broad \"Food\" category that is identified with a unique alphanumeric code. The \"Food\" category contains many sub-categories. Of the sub-categories, we focus on \"Mexican Restaurant\" that is also identified with a unique alphanumeric code. Additionally, there are sub-categories to \"Mexican Restaurant\" like \"Taco Place.\" We use those unique alphanumeric codes to help us identify potential direct competitors. The categories and their alphanumeric codes are found at: https://developer.foursquare.com/docs/resources/categories.\n",
    "\n",
    "In addition to the category and sub-categories of a venue, Foursquare also stores the address of the venue. We will use the address from Foursquare and then obtain the coordinates of the venue from TomTom using the reverse geocoding API.\n",
    "\n",
    "## Combining the data sources\n",
    "\n",
    "As mentioned, TomTom's APIs allow us to map locations in London. We start with a London center, Trafalgar Square, and consider an area about 6km in every direction from that center. This defines our boundaries for the analysis. We then define equal-sized \"areas\" or \"neighborhoods\" within that boundary.\n",
    "\n",
    "The Foursquare data allows us to map the restaurants within the defined boundaries. We obtain a total count of restaurants within our defined area (and each neighborhood), as well as the number of Mexican restaurants. So within each equal-sized neighborhood, we can calcluate the density of restaurants and the percentage of those restaurants that are our direct competitors. "
   ]
  },
  {
   "cell_type": "code",
   "execution_count": null,
   "metadata": {},
   "outputs": [],
   "source": []
  }
 ],
 "metadata": {
  "kernelspec": {
   "display_name": "Python 3",
   "language": "python",
   "name": "python3"
  },
  "language_info": {
   "codemirror_mode": {
    "name": "ipython",
    "version": 3
   },
   "file_extension": ".py",
   "mimetype": "text/x-python",
   "name": "python",
   "nbconvert_exporter": "python",
   "pygments_lexer": "ipython3",
   "version": "3.7.3"
  }
 },
 "nbformat": 4,
 "nbformat_minor": 2
}
